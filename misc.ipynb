{
 "cells": [
  {
   "cell_type": "code",
   "execution_count": 72,
   "id": "219aad81",
   "metadata": {},
   "outputs": [],
   "source": [
    "import re \n",
    "from pathlib import Path \n",
    "import pandas as pd"
   ]
  },
  {
   "cell_type": "code",
   "execution_count": 73,
   "id": "1da9730b",
   "metadata": {},
   "outputs": [],
   "source": [
    "model4 = Path('/Users/jalhussain/ASU/ASU_Fintech/project2/Recipe_recommendation_bot/model_4_history.txt')\n",
    "model_veg = Path('/Users/jalhussain/ASU/ASU_Fintech/project2/Recipe_recommendation_bot/model_fruits_veg.txt')"
   ]
  },
  {
   "cell_type": "code",
   "execution_count": 134,
   "id": "e7103308",
   "metadata": {},
   "outputs": [],
   "source": [
    "with open (model4) as file:\n",
    "    lines = file.readlines()\n",
    "\n",
    "model_4_lst = []\n",
    "\n",
    "for i in lines:\n",
    "    model_4_lst.append(i)\n",
    "\n",
    "model_4_df = pd.DataFrame(model_4_lst)"
   ]
  },
  {
   "cell_type": "code",
   "execution_count": 146,
   "id": "72ba0717",
   "metadata": {},
   "outputs": [
    {
     "data": {
      "text/html": [
       "<div>\n",
       "<style scoped>\n",
       "    .dataframe tbody tr th:only-of-type {\n",
       "        vertical-align: middle;\n",
       "    }\n",
       "\n",
       "    .dataframe tbody tr th {\n",
       "        vertical-align: top;\n",
       "    }\n",
       "\n",
       "    .dataframe thead th {\n",
       "        text-align: right;\n",
       "    }\n",
       "</style>\n",
       "<table border=\"1\" class=\"dataframe\">\n",
       "  <thead>\n",
       "    <tr style=\"text-align: right;\">\n",
       "      <th></th>\n",
       "      <th>epochs</th>\n",
       "    </tr>\n",
       "  </thead>\n",
       "  <tbody>\n",
       "    <tr>\n",
       "      <th>0</th>\n",
       "      <td>Epoch 1/100\\n</td>\n",
       "    </tr>\n",
       "    <tr>\n",
       "      <th>1</th>\n",
       "      <td>2852/2852 [==============================] - 4...</td>\n",
       "    </tr>\n",
       "  </tbody>\n",
       "</table>\n",
       "</div>"
      ],
      "text/plain": [
       "                                              epochs\n",
       "0                                      Epoch 1/100\\n\n",
       "1  2852/2852 [==============================] - 4..."
      ]
     },
     "execution_count": 146,
     "metadata": {},
     "output_type": "execute_result"
    }
   ],
   "source": [
    "model_4_df.head(2)"
   ]
  },
  {
   "cell_type": "code",
   "execution_count": 166,
   "id": "64e698bd",
   "metadata": {},
   "outputs": [
    {
     "data": {
      "text/plain": [
       "'2852/2852 [==============================] - 410s 143ms/step - loss: 7.3229 - accuracy: 0.0152 - tp: 7.0000 - tn: 13411045.0000 - fp: 794.0000 - fn: 91230.0000 - precision: 0.0087 - recall: 7.6723e-05 - auc: 0.6488 - val_loss: 4.6806 - val_accuracy: 0.0185 - val_tp: 0.0000e+00 - val_tn: 1669626.0000 - val_fp: 0.0000e+00 - val_fn: 11358.0000 - val_precision: 0.0000e+00 - val_recall: 0.0000e+00 - val_auc: 0.6900\\n'"
      ]
     },
     "execution_count": 166,
     "metadata": {},
     "output_type": "execute_result"
    }
   ],
   "source": [
    "model_4_df['epochs'][1]\n"
   ]
  },
  {
   "cell_type": "code",
   "execution_count": 165,
   "id": "8f824891",
   "metadata": {},
   "outputs": [
    {
     "ename": "AttributeError",
     "evalue": "'str' object has no attribute 'extract'",
     "output_type": "error",
     "traceback": [
      "\u001b[0;31m---------------------------------------------------------------------------\u001b[0m",
      "\u001b[0;31mAttributeError\u001b[0m                            Traceback (most recent call last)",
      "\u001b[0;32m/var/folders/h4/m4qlztkx7ljd8rgkq9h9bwpr0000gn/T/ipykernel_37189/71566194.py\u001b[0m in \u001b[0;36m<module>\u001b[0;34m\u001b[0m\n\u001b[0;32m----> 1\u001b[0;31m \u001b[0mmodel_4_df\u001b[0m\u001b[0;34m[\u001b[0m\u001b[0;34m'epochs'\u001b[0m\u001b[0;34m]\u001b[0m\u001b[0;34m[\u001b[0m\u001b[0;36m1\u001b[0m\u001b[0;34m]\u001b[0m\u001b[0;34m.\u001b[0m\u001b[0mextract\u001b[0m\u001b[0;34m(\u001b[0m\u001b[0mpat\u001b[0m\u001b[0;34m=\u001b[0m\u001b[0;34m'( accuracy: ([\\d]\\.[\\d]+))'\u001b[0m\u001b[0;34m)\u001b[0m\u001b[0;34m\u001b[0m\u001b[0;34m\u001b[0m\u001b[0m\n\u001b[0m",
      "\u001b[0;31mAttributeError\u001b[0m: 'str' object has no attribute 'extract'"
     ]
    }
   ],
   "source": [
    "model_4_df['epochs'][1].extract(pat='( accuracy: ([\\d]\\.[\\d]+))')"
   ]
  },
  {
   "cell_type": "code",
   "execution_count": 170,
   "id": "3b4473bd",
   "metadata": {},
   "outputs": [
    {
     "name": "stdout",
     "output_type": "stream",
     "text": [
      "                    0       1\n",
      "0                 NaN     NaN\n",
      "1    accuracy: 0.0152  0.0152\n",
      "2                 NaN     NaN\n",
      "3    accuracy: 0.0236  0.0236\n",
      "4                 NaN     NaN\n",
      "..                ...     ...\n",
      "93   accuracy: 0.6745  0.6745\n",
      "94                NaN     NaN\n",
      "95   accuracy: 0.6781  0.6781\n",
      "96                NaN     NaN\n",
      "97   accuracy: 0.6882  0.6882\n",
      "\n",
      "[98 rows x 2 columns]\n"
     ]
    }
   ],
   "source": [
    "print(model_4_df['epochs'].str.extract(pat='( accuracy: ([\\d]\\.[\\d]+))'))"
   ]
  },
  {
   "cell_type": "code",
   "execution_count": 169,
   "id": "62518291",
   "metadata": {},
   "outputs": [
    {
     "ename": "SyntaxError",
     "evalue": "invalid syntax (3110308684.py, line 1)",
     "output_type": "error",
     "traceback": [
      "\u001b[0;36m  File \u001b[0;32m\"/var/folders/h4/m4qlztkx7ljd8rgkq9h9bwpr0000gn/T/ipykernel_37189/3110308684.py\"\u001b[0;36m, line \u001b[0;32m1\u001b[0m\n\u001b[0;31m    print(model_4_ df('epochs\"][1])\u001b[0m\n\u001b[0m                    ^\u001b[0m\n\u001b[0;31mSyntaxError\u001b[0m\u001b[0;31m:\u001b[0m invalid syntax\n"
     ]
    }
   ],
   "source": [
    "print(model_4_ df('epochs\"][1])"
   ]
  },
  {
   "cell_type": "code",
   "execution_count": 31,
   "id": "5350a224",
   "metadata": {},
   "outputs": [],
   "source": [
    "import spoonacular as sp\n",
    "import os\n",
    "from dotenv import load_dotenv\n",
    "load_dotenv()\n",
    "key = os.getenv('spoonacular-key')\n",
    "api = sp.API(key)\n",
    "\n",
    "lst = ['apples' , 'oranges' ,'cucumber']\n",
    "import json\n",
    "from html.parser import HTMLParser\n",
    "\n",
    "class MyHTMLParser(HTMLParser):\n",
    "    def handle_starttag(self, tag, attrs):\n",
    "        print(\"Encountered a start tag:\", tag)\n",
    "\n",
    "    def handle_endtag(self, tag):\n",
    "        print(\"Encountered an end tag :\", tag)\n",
    "\n",
    "    def handle_data(self, data):\n",
    "        print(\"Encountered some data  :\", data)\n",
    "parser = MyHTMLParser()"
   ]
  },
  {
   "cell_type": "code",
   "execution_count": 23,
   "id": "bb7bbc58",
   "metadata": {},
   "outputs": [],
   "source": [
    "response = api."
   ]
  },
  {
   "cell_type": "code",
   "execution_count": 37,
   "id": "8e51268e",
   "metadata": {},
   "outputs": [],
   "source": [
    "html = \"\"\"style type=\"text/css\">.spoonacular-switch .slide-button,.toggle p span{display:none}@media only screen{.toggle{position:relative;padding:0;margin-left:100px}.toggle label{position:relative;z-index:3;display:block;width:100%}.toggle input{position:absolute;opacity:0;z-index:5}.toggle p{position:absolute;left:-100px;width:100%;margin:0;padding-right:100px;text-align:left}.toggle p span{position:absolute;top:0;left:0;z-index:5;display:block;width:50%;margin-left:100px;text-align:center}.toggle p span:last-child{left:50%}.toggle .slide-button{position:absolute;right:0;top:0;z-index:4;display:block;width:50%;height:100%;padding:0}.spoonacular-switch{position:relative;padding:0}.spoonacular-switch input{position:absolute;opacity:0}.spoonacular-switch label{position:relative;z-index:2;float:left;width:50%;height:100%;margin:0;text-align:center}.spoonacular-switch .slide-button{position:absolute;top:0;left:0;padding:0;z-index:1;width:50%;height:100%}.spoonacular-switch input:last-of-type:checked ~ .slide-button{left:50%}.switch.switch-three label,.switch.switch-three .slide-button{width:33.3%}.switch.switch-three input:checked:nth-of-type(2) ~ .slide-button{left:33.3%}.switch.switch-three input:checked:last-of-type ~ .slide-button{left:66.6%}.switch.switch-four label,.switch.switch-four .slide-button{width:25%}.switch.switch-four input:checked:nth-of-type(2) ~ .slide-button{left:25%}.switch.switch-four input:checked:nth-of-type(3) ~ .slide-button{left:50%}.switch.switch-four input:checked:last-of-type ~ .slide-button{left:75%}.switch.switch-five label,.switch.switch-five .slide-button{width:20%}.switch.switch-five input:checked:nth-of-type(2) ~ .slide-button{left:20%}.switch.switch-five input:checked:nth-of-type(3) ~ .slide-button{left:40%}.switch.switch-five input:checked:nth-of-type(4) ~ .slide-button{left:60%}.switch.switch-five input:checked:last-of-type ~ .slide-button{left:80%}.toggle,.spoonacular-switch{display:block;height:24px}.spoonacular-switch *,.toggle *{-webkit-box-sizing:border-box;-moz-box-sizing:border-box;-ms-box-sizing:border-box;-o-box-sizing:border-box;box-sizing:border-box}.spoonacular-switch .slide-button,.toggle .slide-button{display:block;-webkit-transition:all .3s ease-out;-moz-transition:all .3s ease-out;-ms-transition:all .3s ease-out;-o-transition:all .3s ease-out;transition:all .3s ease-out}.toggle label,.toggle p,.spoonacular-switch label{line-height:24px;vertical-align:middle}.toggle input:checked ~ .slide-button{right:50%}.toggle input:focus ~ .slide-button,.spoonacular-switch input:focus+label{outline:1px dotted #888}.spoonacular-switch,.toggle{-webkit-animation:bugfix infinite 1s}@-webkit-keyframes bugfix{from{position:relative}to{position:relative}}.spoonacular-metro{background-color:#b6b6b6;color:#fff}.spoonacular-metro.toggle{border:2px solid #b6b6b6}.spoonacular-metro.spoonacular-switch{overflow:hidden}.spoonacular-metro.spoonacular-switch .slide-button{background-color:#279fca}.spoonacular-metro.toggle .slide-button{border-radius:2px;background-color:#848484}.spoonacular-metro.toggle input:first-of-type:checked ~ .slide-button{background-color:#279fca}.spoonacular-metro p{color:#333}.spoonacular-metro span{color:#fff}}.stepper-wrap{position:relative;display:inline-block;font:11px Arial,sans-serif}.stepper-wrap input{text-align:right}.stepper-btn-wrap{position:absolute;top:0;right:-15px;width:15px;height:100%;overflow:hidden;border:1px solid #ccc;border-left:0;-webkit-border-radius:0 2px 2px 0;-moz-border-radius:0 2px 2px 0;border-radius:0 2px 2px 0;-moz-background-clip:padding;-webkit-background-clip:padding-box;background-clip:padding-box;background-color:#ddd;background-image:-webkit-gradient(linear,left top,left bottom,from(#eee),to(#ddd));background-image:-webkit-linear-gradient(top,#eee,#ddd);background-image:-moz-linear-gradient(top,#eee,#ddd);background-image:-ms-linear-gradient(top,#eee,#ddd);background-image:-o-linear-gradient(top,#eee,#ddd);background-image:linear-gradient(top,#eee,#ddd);filter:progid:DXImageTransform.Microsoft.gradient(startColorStr='#eee',EndColorStr='#ddd');-webkit-box-sizing:border-box;-moz-box-sizing:border-box;box-sizing:border-box}.stepper-btn-wrap a{display:block;height:50%;overflow:hidden;line-height:100%;text-align:center;text-decoration:none;text-shadow:1px 1px 0 #fff;cursor:default;color:#666;-webkit-box-sizing:border-box;-moz-box-sizing:border-box;box-sizing:border-box}.stepper-btn-wrap a:hover{background:rgba(255,255,255,0.5)}#spoonacular-serving-stepper{width:25px;margin-left:4px}.spoonacular-ingredient{width:100px;height:100px;position:relative;border:6px solid rgba(30,30,30,0.30);margin-right:10px;margin-top:10px}.spoonacular-image-wrapper{width:100px;height:100px;vertical-align:middle;text-align:center;line-height:100px;background-color:#fff;position:relative}#spoonacular-ingredient-vis-list .spoonacular-image-wrapper{border:6px solid rgba(30,30,30,0.30);width:80px;height:80px;line-height:80px}.spoonacular-ingredient img{max-width:100px;max-height:97px;vertical-align:middle;position:absolute;top:0;bottom:0;left:0;right:0;margin:auto}.spoonacular-ingredient .spoonacular-name,.spoonacular-ingredient .spoonacular-amount{padding:0 2px;width:96px;height:0;position:absolute;background-color:rgba(32,34,44,0.64);line-height:20px;color:#fff;text-align:center;overflow:hidden;z-index:999}.spoonacular-ingredient div.spoonacular-amount{top:0;height:18px}.spoonacular-ingredient div.spoonacular-name{bottom:0;height:18px}.t12{font-size:12px}.t11{font-size:11px}.t10{font-size:10px}.t9{font-size:9px}#spoonacular-ingredient-vis-list{display:none}div.spoonacular-ingredient-list{border-bottom:1px solid #036;color:#036;font-size:19px;line-height:80px;padding:5px 0}.spoonacular-ingredient-list img{max-width:80px;max-height:77px;vertical-align:middle;position:absolute;top:0;bottom:0;left:0;right:0;margin:auto}div.spoonacular-ingredient-list .spoonacular-amount{margin-left:20px;width:90px;float:left}div.spoonacular-ingredient-list .spoonacular-name{float:left}\n",
    "</style><div><div id=\"spoonacularPriceBreakdownChart\" style=\"height: 380px; width: 480px;float:left;max-width:100%;\"></div><div id=\"spoonacularPriceBreakdownTable\" style=\"float:left;min-width:320px;margin-top:24px;margin-left:12px;font-size: 14px;line-height: 22px;\"><div class=\"spoonacular-quickview\" style=\"margin-bottom:6px;\">Cost per Serving: $0.21</div><div style=\"clear:both\"></div><div style=\"display:inline-block;float:left;max-width:80%\"><b>Ingredient</b><br>some apples<br></div><div style=\"text-align:right;display:inline-block;float:left;padding-left:1em\"><b>Price</b><br>$0.21<br><div style=\"border-top: 3px double black\">$0.21</div></div></div><div style=\"clear:both\"></div></div><script type=\"text/javascript\" id=\"spoonacular-price-estimator-script\">jQuery(function() {var chart = new CanvasJS.Chart('spoonacularPriceBreakdownChart',{backgroundColor: 'rgba(0,0,0,0)',creditHref: '',creditText: '',toolTip:{content: \"{price} for {amount} <br> {indexLabel} <br> <img src=''{image}> \",},data: [{type: 'doughnut',dataPoints: [{ image: \"https://spoonacular.com/cdn/ingredients_100x100/apple.jpg\", amount:\"some\", price:\"21 cents\", y:\"21\", indexLabel:\"apples\"},]}]});chart.render();});</script><div style=\"margin-top:3px;margin-right:10px;text-align:right;\">Widget by <a href=\"https://spoonacular.com\">spoonacular.com</a></div>\"\"\""
   ]
  },
  {
   "cell_type": "code",
   "execution_count": 43,
   "id": "cc484a6c",
   "metadata": {},
   "outputs": [
    {
     "name": "stdout",
     "output_type": "stream",
     "text": [
      "<div style=\"width:100%;height: 420px;overflow:hidden;position:relative;\"><div id=\"spoonacularPriceBreakdownChart\" style=\"position:absolute;top:0px;left:0px; height: 380px; width: 100%\"></div><div id=\"spoonacularPriceBreakdownTable\" style=\"position:absolute;top:0px;left:100%;margin-top:24px;margin-left:20px;font-size: 14px;line-height: 22px;\"><div class=\"spoonacular-quickview\" style=\"margin-bottom:6px;\">Cost per Serving: $0.07</div><div style=\"clear:both\"></div><div style=\"display:inline-block;float:left;max-width:80%\"><b>Ingredient</b><br>some onions<br></div><div style=\"text-align:right;display:inline-block;float:left;padding-left:1em\"><b>Price</b><br>$0.07<br><div style=\"border-top: 3px double black\">$0.07</div></div></div><div id=\"spoonacularPriceView\" class=\"spoonacular-switch spoonacular-metro\" style=\"float:right;width:130px;margin-right:10px\"><input id=\"spoonacular-price-chart\" name=\"priceView\" type=\"radio\" checked onchange=\"spoonacularTogglePriceBreakdownView();\"><label for=\"spoonacular-price-chart\" onclick=\"\">chart</label><input id=\"spoonacular-price-table\" name=\"priceView\" type=\"radio\" onchange=\"spoonacularTogglePriceBreakdownView();\"><label for=\"spoonacular-price-table\" onclick=\"\">table</label><span class=\"slide-button\"></span></div></div><script type=\"text/javascript\" id=\"spoonacular-price-estimator-script\">jQuery(function() {var chart = new CanvasJS.Chart('spoonacularPriceBreakdownChart',{backgroundColor: 'rgba(0,0,0,0)',creditHref: '',creditText: '',toolTip:{content: \"{price} for {amount} <br> {indexLabel} <br> <img src=''{image}> \",},data: [{type: 'doughnut',dataPoints: [{ image: \"https://spoonacular.com/cdn/ingredients_100x100/garlic.png\", amount:\"some\", price:\"7 cents\", y:\"7\", indexLabel:\"onions\"},]}]});chart.render();});</script><div style=\"margin-top:3px;margin-right:10px;text-align:right;\">Widget by <a href=\"https://spoonacular.com\">spoonacular.com</a></div>\n"
     ]
    }
   ],
   "source": [
    "import requests\n",
    "\n",
    "url = \"https://webknox-recipes.p.rapidapi.com/recipes/visualizePriceEstimator\"\n",
    "\n",
    "payload = \"ingredientList=onions%20%2C%20garlic%20%2C%20steak%20&servings=1&defaultCss=checked&mode=1\"\n",
    "headers = {\n",
    "\t\"content-type\": \"application/x-www-form-urlencoded\",\n",
    "\t\"X-RapidAPI-Host\": \"webknox-recipes.p.rapidapi.com\",\n",
    "\t\"X-RapidAPI-Key\": \"58b48e591bmsh950b77f6d1b6797p1fe1aajsne353087ebe5a\"\n",
    "}\n",
    "\n",
    "response = requests.request(\"POST\", url, data=payload, headers=headers)\n",
    "\n",
    "print(response.text)"
   ]
  },
  {
   "cell_type": "code",
   "execution_count": 45,
   "id": "8dda9659",
   "metadata": {},
   "outputs": [
    {
     "data": {
      "text/plain": [
       "'<div style=\"width:100%;height: 420px;overflow:hidden;position:relative;\"><div id=\"spoonacularPriceBreakdownChart\" style=\"position:absolute;top:0px;left:0px; height: 380px; width: 100%\"></div><div id=\"spoonacularPriceBreakdownTable\" style=\"position:absolute;top:0px;left:100%;margin-top:24px;margin-left:20px;font-size: 14px;line-height: 22px;\"><div class=\"spoonacular-quickview\" style=\"margin-bottom:6px;\">Cost per Serving: $0.07</div><div style=\"clear:both\"></div><div style=\"display:inline-block;float:left;max-width:80%\"><b>Ingredient</b><br>some onions<br></div><div style=\"text-align:right;display:inline-block;float:left;padding-left:1em\"><b>Price</b><br>$0.07<br><div style=\"border-top: 3px double black\">$0.07</div></div></div><div id=\"spoonacularPriceView\" class=\"spoonacular-switch spoonacular-metro\" style=\"float:right;width:130px;margin-right:10px\"><input id=\"spoonacular-price-chart\" name=\"priceView\" type=\"radio\" checked onchange=\"spoonacularTogglePriceBreakdownView();\"><label for=\"spoonacular-price-chart\" onclick=\"\">chart</label><input id=\"spoonacular-price-table\" name=\"priceView\" type=\"radio\" onchange=\"spoonacularTogglePriceBreakdownView();\"><label for=\"spoonacular-price-table\" onclick=\"\">table</label><span class=\"slide-button\"></span></div></div><script type=\"text/javascript\" id=\"spoonacular-price-estimator-script\">jQuery(function() {var chart = new CanvasJS.Chart(\\'spoonacularPriceBreakdownChart\\',{backgroundColor: \\'rgba(0,0,0,0)\\',creditHref: \\'\\',creditText: \\'\\',toolTip:{content: \"{price} for {amount} <br> {indexLabel} <br> <img src=\\'\\'{image}> \",},data: [{type: \\'doughnut\\',dataPoints: [{ image: \"https://spoonacular.com/cdn/ingredients_100x100/garlic.png\", amount:\"some\", price:\"7 cents\", y:\"7\", indexLabel:\"onions\"},]}]});chart.render();});</script><div style=\"margin-top:3px;margin-right:10px;text-align:right;\">Widget by <a href=\"https://spoonacular.com\">spoonacular.com</a></div>'"
      ]
     },
     "execution_count": 45,
     "metadata": {},
     "output_type": "execute_result"
    }
   ],
   "source": [
    "response.text"
   ]
  },
  {
   "cell_type": "code",
   "execution_count": null,
   "id": "d2e2a0a4",
   "metadata": {},
   "outputs": [],
   "source": []
  }
 ],
 "metadata": {
  "interpreter": {
   "hash": "86969af4118fd2beaee010b14a97d3c8fe7dc31ff55f1528eea7eaecb45368d6"
  },
  "kernelspec": {
   "display_name": "Python [conda env:mlenv] *",
   "language": "python",
   "name": "python3"
  },
  "language_info": {
   "codemirror_mode": {
    "name": "ipython",
    "version": 3
   },
   "file_extension": ".py",
   "mimetype": "text/x-python",
   "name": "python",
   "nbconvert_exporter": "python",
   "pygments_lexer": "ipython3",
   "version": "3.7.7"
  }
 },
 "nbformat": 4,
 "nbformat_minor": 5
}
